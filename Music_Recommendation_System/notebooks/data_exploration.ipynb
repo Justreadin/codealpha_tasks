{
 "cells": [
  {
   "cell_type": "code",
   "execution_count": null,
   "metadata": {},
   "outputs": [
    {
     "ename": "",
     "evalue": "",
     "output_type": "error",
     "traceback": [
      "\u001b[1;31mRunning cells with '.venv (Python 3.12.5)' requires the ipykernel package.\n",
      "\u001b[1;31mRun the following command to install 'ipykernel' into the Python environment. \n",
      "\u001b[1;31mCommand: 'c:/Users/USER/OneDrive/Desktop/Python/.venv/Scripts/python.exe -m pip install ipykernel -U --force-reinstall'"
     ]
    }
   ],
   "source": [
    "# Spotify Music Recommendation System\n",
    "### Data Exploration and Preprocessing\n",
    "\n",
    "import pandas as pd\n",
    "import numpy as np\n",
    "import matplotlib.pyplot as plt\n",
    "import seaborn as sns\n",
    "%matplotlib inline\n",
    "\n",
    "# Load dataset\n",
    "data_path = \"..\\data\\clean_data.json\"\n",
    "data = pd.read_json(data_path)\n",
    "\n",
    "# Initial inspection\n",
    "print(\"Data Sample:\")\n",
    "print(data.head())\n",
    "print(\"\\nData Info:\")\n",
    "print(data.info())\n",
    "\n",
    "# Handle missing values and duplicates\n",
    "missing_values = data.isnull().sum()\n",
    "print(\"\\nMissing Values:\\n\", missing_values)\n",
    "\n",
    "# Convert timestamp to datetime\n",
    "data['ts'] = pd.to_datetime(data['ts'])\n",
    "\n",
    "# Remove duplicates\n",
    "data = data.drop_duplicates()\n",
    "print(\"\\nData Shape after Cleanup:\", data.shape)\n",
    "\n",
    "# Extract date and hour\n",
    "data['date'] = data['ts'].dt.date\n",
    "data['hour'] = data['ts'].dt.hour\n",
    "\n",
    "# Filter tracks with play duration > 30 seconds\n",
    "data = data[data['ms_played'] > 30000]\n",
    "\n",
    "# Calculate track play counts\n",
    "track_play_counts = data.groupby('master_metadata_track_name')['ms_played'].count().reset_index()\n",
    "track_play_counts.columns = ['track_name', 'play_count']\n",
    "\n",
    "# Merge play counts back into the dataset\n",
    "processed_data = data.merge(track_play_counts, on='master_metadata_track_name', how='left')\n",
    "\n",
    "# Save the cleaned and processed dataset\n",
    "processed_data_path = \"../data/cleaned_data.csv\"\n",
    "processed_data.to_csv(processed_data_path, index=False)\n",
    "print(f\"\\nProcessed data saved to {processed_data_path}\")\n",
    "\n",
    "# Visualize play count distribution\n",
    "plt.figure(figsize=(10, 5))\n",
    "sns.histplot(track_play_counts['play_count'], bins=50, color='skyblue')\n",
    "plt.title(\"Track Play Count Distribution\")\n",
    "plt.xlabel(\"Play Count\")\n",
    "plt.ylabel(\"Frequency\")\n",
    "plt.show()\n"
   ]
  }
 ],
 "metadata": {
  "kernelspec": {
   "display_name": "Python 3",
   "language": "python",
   "name": "python3"
  },
  "language_info": {
   "name": "python",
   "version": "3.12.5"
  }
 },
 "nbformat": 4,
 "nbformat_minor": 2
}
